{
 "cells": [
  {
   "cell_type": "code",
   "execution_count": 4,
   "id": "de78dca2",
   "metadata": {},
   "outputs": [
    {
     "data": {
      "image/png": "[encoded data removed]",
      "text/plain": [
       "<IPython.core.display.Image object>"
      ]
     },
     "metadata": {},
     "output_type": "display_data"
    }
   ],
   "source": [
    "from langchain_core.pydantic_v1 import BaseModel\n",
    "from IPython.display import Image, display\n",
    "from langgraph.graph import StateGraph, START,END\n",
    "from typing import TypedDict\n",
    "from typing import Literal\n",
    "import random  \n",
    "\n",
    "class OverallNode(BaseModel):\n",
    "    question : str\n",
    "    answer : str\n",
    "    note : str\n",
    "\n",
    "def ThinkingNode(state: OverallNode):\n",
    "    state.answer = \"bye\"\n",
    "    state.note = \"no more questions\"\n",
    "    return state\n",
    "\n",
    "def AnswerNode(state: OverallNode):\n",
    "    state.answer = \"bye Akshay\"\n",
    "    return state\n",
    "\n",
    "graph = StateGraph(OverallNode)\n",
    "graph.add_node(\"Answer Node\", AnswerNode)\n",
    "graph.add_node(\"Thinking Node\", ThinkingNode)\n",
    "\n",
    "graph.add_edge(START , \"Thinking Node\")\n",
    "graph.add_edge(\"Thinking Node\", \"Answer Node\")\n",
    "graph.add_edge(\"Answer Node\", END)\n",
    "\n",
    "graph = graph.compile()\n",
    "display(Image(graph.get_graph().draw_mermaid_png()))"
   ]
  },
  {
   "cell_type": "code",
   "execution_count": 7,
   "id": "8c40b48c",
   "metadata": {},
   "outputs": [
    {
     "name": "stdout",
     "output_type": "stream",
     "text": [
      "{'question': 'What is the capital of France?', 'answer': 'bye Akshay', 'note': 'no more questions'}\n"
     ]
    }
   ],
   "source": [
    "result = graph.invoke(OverallNode(\n",
    "    question=\"What is the capital of France?\",\n",
    "    answer=\"\",\n",
    "    note=\"\"\n",
    "))\n",
    "print(result)"
   ]
  },
  {
   "cell_type": "code",
   "execution_count": 24,
   "id": "8428c8ac",
   "metadata": {},
   "outputs": [
    {
     "name": "stderr",
     "output_type": "stream",
     "text": [
      "C:\\Users\\APatil\\AppData\\Local\\Temp\\ipykernel_17208\\2120623962.py:25: LangGraphDeprecatedSinceV05: `input` is deprecated and will be removed. Please use `input_schema` instead. Deprecated in LangGraph V0.5 to be removed in V2.0.\n",
      "  graph = StateGraph(InputState , input = InputState , output = OutputState)\n",
      "C:\\Users\\APatil\\AppData\\Local\\Temp\\ipykernel_17208\\2120623962.py:25: LangGraphDeprecatedSinceV05: `output` is deprecated and will be removed. Please use `output_schema` instead. Deprecated in LangGraph V0.5 to be removed in V2.0.\n",
      "  graph = StateGraph(InputState , input = InputState , output = OutputState)\n"
     ]
    },
    {
     "data": {
      "image/png": "[encoded data removed]",
      "text/plain": [
       "<IPython.core.display.Image object>"
      ]
     },
     "metadata": {},
     "output_type": "display_data"
    }
   ],
   "source": [
    "class InputState(BaseModel):\n",
    "    question: str\n",
    "\n",
    "class OutputState(BaseModel):\n",
    "    answer: str\n",
    "\n",
    "class OverallState(BaseModel):\n",
    "    question : str\n",
    "    answer : str\n",
    "    note : str\n",
    "\n",
    "def ThinkingNode(state: InputState) -> OverallState:\n",
    "    return OverallState(\n",
    "        question=state.question,\n",
    "        answer=\"\",\n",
    "        note=\"No more questions\"\n",
    "    )\n",
    "\n",
    "\n",
    "def AnswerNode(state: OverallState) -> OutputState:\n",
    "    return OutputState(\n",
    "        answer=\"bye Akshay\",\n",
    "    )\n",
    "\n",
    "graph = StateGraph(InputState , input = InputState , output = OutputState)\n",
    "graph.add_node(\"Answer Node\", AnswerNode)\n",
    "graph.add_node(\"Thinking Node\", ThinkingNode)\n",
    "\n",
    "graph.add_edge(START , \"Thinking Node\")\n",
    "graph.add_edge(\"Thinking Node\", \"Answer Node\")\n",
    "graph.add_edge(\"Answer Node\", END)\n",
    "\n",
    "graph = graph.compile()\n",
    "display(Image(graph.get_graph().draw_mermaid_png()))\n",
    "\n"
   ]
  },
  {
   "cell_type": "code",
   "execution_count": 25,
   "id": "21053692",
   "metadata": {},
   "outputs": [
    {
     "name": "stdout",
     "output_type": "stream",
     "text": [
      "{'answer': 'bye Akshay'}\n"
     ]
    }
   ],
   "source": [
    "result = graph.invoke(InputState(\n",
    "    question=\"hi\",\n",
    "))\n",
    "print(result)"
   ]
  },
  {
   "cell_type": "code",
   "execution_count": null,
   "id": "0ebf2530",
   "metadata": {},
   "outputs": [],
   "source": []
  }
 ],
 "metadata": {
  "kernelspec": {
   "display_name": "venv",
   "language": "python",
   "name": "python3"
  },
  "language_info": {
   "codemirror_mode": {
    "name": "ipython",
    "version": 3
   },
   "file_extension": ".py",
   "mimetype": "text/x-python",
   "name": "python",
   "nbconvert_exporter": "python",
   "pygments_lexer": "ipython3",
   "version": "3.13.3"
  }
 },
 "nbformat": 4,
 "nbformat_minor": 5
}
