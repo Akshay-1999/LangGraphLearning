{
 "cells": [
  {
   "cell_type": "code",
   "execution_count": 33,
   "id": "3e330651",
   "metadata": {},
   "outputs": [],
   "source": [
    "from IPython.display import Image, display\n",
    "from langgraph.graph import StateGraph, START,END\n",
    "from typing import TypedDict\n",
    "from typing import Literal\n",
    "import random  "
   ]
  },
  {
   "cell_type": "code",
   "execution_count": 36,
   "id": "2f3b8cf9",
   "metadata": {},
   "outputs": [],
   "source": [
    "from langchain_core.pydantic_v1 import BaseModel\n",
    "\n",
    "class PydanticState(BaseModel):\n",
    "    Key : int \n",
    "\n",
    "def node1(state: PydanticState):\n",
    "    return {\"Key\": state.Key + 1}\n",
    "\n",
    "def node2(state: PydanticState):\n",
    "    return {\"Key\": state.Key + 1}\n",
    "\n",
    "def node3(state: PydanticState):\n",
    "    return {\"Key\": state.Key + 1}\n"
   ]
  },
  {
   "cell_type": "code",
   "execution_count": 38,
   "id": "b6e7a5a5",
   "metadata": {},
   "outputs": [
    {
     "ename": "ValueError",
     "evalue": "Failed to reach https://mermaid.ink/ API while trying to render your graph. Status code: 502.\n\nTo resolve this issue:\n1. Check your internet connection and try again\n2. Try with higher retry settings: `draw_mermaid_png(..., max_retries=5, retry_delay=2.0)`\n3. Use the Pyppeteer rendering method which will render your graph locally in a browser: `draw_mermaid_png(..., draw_method=MermaidDrawMethod.PYPPETEER)`",
     "output_type": "error",
     "traceback": [
      "\u001b[31m---------------------------------------------------------------------------\u001b[39m",
      "\u001b[31mValueError\u001b[39m                                Traceback (most recent call last)",
      "\u001b[36mCell\u001b[39m\u001b[36m \u001b[39m\u001b[32mIn[38]\u001b[39m\u001b[32m, line 10\u001b[39m\n\u001b[32m      6\u001b[39m builder.add_edge(\u001b[33m\"\u001b[39m\u001b[33mNode2\u001b[39m\u001b[33m\"\u001b[39m, END)\n\u001b[32m      8\u001b[39m simple_grap = builder.compile()\n\u001b[32m---> \u001b[39m\u001b[32m10\u001b[39m display(Image(\u001b[43msimple_grap\u001b[49m\u001b[43m.\u001b[49m\u001b[43mget_graph\u001b[49m\u001b[43m(\u001b[49m\u001b[43m)\u001b[49m\u001b[43m.\u001b[49m\u001b[43mdraw_mermaid_png\u001b[49m\u001b[43m(\u001b[49m\u001b[43m)\u001b[49m))\n",
      "\u001b[36mFile \u001b[39m\u001b[32me:\\python syntax\\LangGraph\\MyLearningLangGraph\\LangGraphLearning\\venv\\Lib\\site-packages\\langchain_core\\runnables\\graph.py:695\u001b[39m, in \u001b[36mGraph.draw_mermaid_png\u001b[39m\u001b[34m(self, curve_style, node_colors, wrap_label_n_words, output_file_path, draw_method, background_color, padding, max_retries, retry_delay, frontmatter_config)\u001b[39m\n\u001b[32m    687\u001b[39m \u001b[38;5;28;01mfrom\u001b[39;00m\u001b[38;5;250m \u001b[39m\u001b[34;01mlangchain_core\u001b[39;00m\u001b[34;01m.\u001b[39;00m\u001b[34;01mrunnables\u001b[39;00m\u001b[34;01m.\u001b[39;00m\u001b[34;01mgraph_mermaid\u001b[39;00m\u001b[38;5;250m \u001b[39m\u001b[38;5;28;01mimport\u001b[39;00m draw_mermaid_png\n\u001b[32m    689\u001b[39m mermaid_syntax = \u001b[38;5;28mself\u001b[39m.draw_mermaid(\n\u001b[32m    690\u001b[39m     curve_style=curve_style,\n\u001b[32m    691\u001b[39m     node_colors=node_colors,\n\u001b[32m    692\u001b[39m     wrap_label_n_words=wrap_label_n_words,\n\u001b[32m    693\u001b[39m     frontmatter_config=frontmatter_config,\n\u001b[32m    694\u001b[39m )\n\u001b[32m--> \u001b[39m\u001b[32m695\u001b[39m \u001b[38;5;28;01mreturn\u001b[39;00m \u001b[43mdraw_mermaid_png\u001b[49m\u001b[43m(\u001b[49m\n\u001b[32m    696\u001b[39m \u001b[43m    \u001b[49m\u001b[43mmermaid_syntax\u001b[49m\u001b[43m=\u001b[49m\u001b[43mmermaid_syntax\u001b[49m\u001b[43m,\u001b[49m\n\u001b[32m    697\u001b[39m \u001b[43m    \u001b[49m\u001b[43moutput_file_path\u001b[49m\u001b[43m=\u001b[49m\u001b[43moutput_file_path\u001b[49m\u001b[43m,\u001b[49m\n\u001b[32m    698\u001b[39m \u001b[43m    \u001b[49m\u001b[43mdraw_method\u001b[49m\u001b[43m=\u001b[49m\u001b[43mdraw_method\u001b[49m\u001b[43m,\u001b[49m\n\u001b[32m    699\u001b[39m \u001b[43m    \u001b[49m\u001b[43mbackground_color\u001b[49m\u001b[43m=\u001b[49m\u001b[43mbackground_color\u001b[49m\u001b[43m,\u001b[49m\n\u001b[32m    700\u001b[39m \u001b[43m    \u001b[49m\u001b[43mpadding\u001b[49m\u001b[43m=\u001b[49m\u001b[43mpadding\u001b[49m\u001b[43m,\u001b[49m\n\u001b[32m    701\u001b[39m \u001b[43m    \u001b[49m\u001b[43mmax_retries\u001b[49m\u001b[43m=\u001b[49m\u001b[43mmax_retries\u001b[49m\u001b[43m,\u001b[49m\n\u001b[32m    702\u001b[39m \u001b[43m    \u001b[49m\u001b[43mretry_delay\u001b[49m\u001b[43m=\u001b[49m\u001b[43mretry_delay\u001b[49m\u001b[43m,\u001b[49m\n\u001b[32m    703\u001b[39m \u001b[43m\u001b[49m\u001b[43m)\u001b[49m\n",
      "\u001b[36mFile \u001b[39m\u001b[32me:\\python syntax\\LangGraph\\MyLearningLangGraph\\LangGraphLearning\\venv\\Lib\\site-packages\\langchain_core\\runnables\\graph_mermaid.py:294\u001b[39m, in \u001b[36mdraw_mermaid_png\u001b[39m\u001b[34m(mermaid_syntax, output_file_path, draw_method, background_color, padding, max_retries, retry_delay)\u001b[39m\n\u001b[32m    288\u001b[39m     img_bytes = asyncio.run(\n\u001b[32m    289\u001b[39m         _render_mermaid_using_pyppeteer(\n\u001b[32m    290\u001b[39m             mermaid_syntax, output_file_path, background_color, padding\n\u001b[32m    291\u001b[39m         )\n\u001b[32m    292\u001b[39m     )\n\u001b[32m    293\u001b[39m \u001b[38;5;28;01melif\u001b[39;00m draw_method == MermaidDrawMethod.API:\n\u001b[32m--> \u001b[39m\u001b[32m294\u001b[39m     img_bytes = \u001b[43m_render_mermaid_using_api\u001b[49m\u001b[43m(\u001b[49m\n\u001b[32m    295\u001b[39m \u001b[43m        \u001b[49m\u001b[43mmermaid_syntax\u001b[49m\u001b[43m,\u001b[49m\n\u001b[32m    296\u001b[39m \u001b[43m        \u001b[49m\u001b[43moutput_file_path\u001b[49m\u001b[43m=\u001b[49m\u001b[43moutput_file_path\u001b[49m\u001b[43m,\u001b[49m\n\u001b[32m    297\u001b[39m \u001b[43m        \u001b[49m\u001b[43mbackground_color\u001b[49m\u001b[43m=\u001b[49m\u001b[43mbackground_color\u001b[49m\u001b[43m,\u001b[49m\n\u001b[32m    298\u001b[39m \u001b[43m        \u001b[49m\u001b[43mmax_retries\u001b[49m\u001b[43m=\u001b[49m\u001b[43mmax_retries\u001b[49m\u001b[43m,\u001b[49m\n\u001b[32m    299\u001b[39m \u001b[43m        \u001b[49m\u001b[43mretry_delay\u001b[49m\u001b[43m=\u001b[49m\u001b[43mretry_delay\u001b[49m\u001b[43m,\u001b[49m\n\u001b[32m    300\u001b[39m \u001b[43m    \u001b[49m\u001b[43m)\u001b[49m\n\u001b[32m    301\u001b[39m \u001b[38;5;28;01melse\u001b[39;00m:\n\u001b[32m    302\u001b[39m     supported_methods = \u001b[33m\"\u001b[39m\u001b[33m, \u001b[39m\u001b[33m\"\u001b[39m.join([m.value \u001b[38;5;28;01mfor\u001b[39;00m m \u001b[38;5;129;01min\u001b[39;00m MermaidDrawMethod])\n",
      "\u001b[36mFile \u001b[39m\u001b[32me:\\python syntax\\LangGraph\\MyLearningLangGraph\\LangGraphLearning\\venv\\Lib\\site-packages\\langchain_core\\runnables\\graph_mermaid.py:451\u001b[39m, in \u001b[36m_render_mermaid_using_api\u001b[39m\u001b[34m(mermaid_syntax, output_file_path, background_color, file_type, max_retries, retry_delay)\u001b[39m\n\u001b[32m    446\u001b[39m     \u001b[38;5;66;03m# For other status codes, fail immediately\u001b[39;00m\n\u001b[32m    447\u001b[39m     msg = (\n\u001b[32m    448\u001b[39m         \u001b[33m\"\u001b[39m\u001b[33mFailed to reach https://mermaid.ink/ API while trying to render \u001b[39m\u001b[33m\"\u001b[39m\n\u001b[32m    449\u001b[39m         \u001b[33mf\u001b[39m\u001b[33m\"\u001b[39m\u001b[33myour graph. Status code: \u001b[39m\u001b[38;5;132;01m{\u001b[39;00mresponse.status_code\u001b[38;5;132;01m}\u001b[39;00m\u001b[33m.\u001b[39m\u001b[38;5;130;01m\\n\u001b[39;00m\u001b[38;5;130;01m\\n\u001b[39;00m\u001b[33m\"\u001b[39m\n\u001b[32m    450\u001b[39m     ) + error_msg_suffix\n\u001b[32m--> \u001b[39m\u001b[32m451\u001b[39m     \u001b[38;5;28;01mraise\u001b[39;00m \u001b[38;5;167;01mValueError\u001b[39;00m(msg)\n\u001b[32m    453\u001b[39m \u001b[38;5;28;01mexcept\u001b[39;00m (requests.RequestException, requests.Timeout) \u001b[38;5;28;01mas\u001b[39;00m e:\n\u001b[32m    454\u001b[39m     \u001b[38;5;28;01mif\u001b[39;00m attempt < max_retries:\n\u001b[32m    455\u001b[39m         \u001b[38;5;66;03m# Exponential backoff with jitter\u001b[39;00m\n",
      "\u001b[31mValueError\u001b[39m: Failed to reach https://mermaid.ink/ API while trying to render your graph. Status code: 502.\n\nTo resolve this issue:\n1. Check your internet connection and try again\n2. Try with higher retry settings: `draw_mermaid_png(..., max_retries=5, retry_delay=2.0)`\n3. Use the Pyppeteer rendering method which will render your graph locally in a browser: `draw_mermaid_png(..., draw_method=MermaidDrawMethod.PYPPETEER)`"
     ]
    }
   ],
   "source": [
    "builder = StateGraph(PydanticState)\n",
    "\n",
    "builder.add_node(\"Node2\", node2)\n",
    "\n",
    "builder.add_edge(START, \"Node2\")\n",
    "builder.add_edge(\"Node2\", END)\n",
    "\n",
    "simple_grap = builder.compile()\n",
    "\n",
    "display(Image(simple_grap.get_graph().draw_mermaid_png()))"
   ]
  },
  {
   "cell_type": "code",
   "execution_count": 18,
   "id": "1f0180e0",
   "metadata": {},
   "outputs": [
    {
     "name": "stdout",
     "output_type": "stream",
     "text": [
      "{'Key': 2}\n"
     ]
    }
   ],
   "source": [
    "result = simple_grap.invoke(PydanticState(Key=1))\n",
    "print(result)"
   ]
  },
  {
   "cell_type": "code",
   "execution_count": 21,
   "id": "b4942f0a",
   "metadata": {},
   "outputs": [
    {
     "data": {
      "image/png": "[encoded data removed]",
      "text/plain": [
       "<IPython.core.display.Image object>"
      ]
     },
     "metadata": {},
     "output_type": "display_data"
    }
   ],
   "source": [
    "builder = StateGraph(PydanticState)\n",
    "\n",
    "builder.add_node(\"Node1\", node1)\n",
    "builder.add_node(\"Node2\", node2)\n",
    "builder.add_node(\"Node3\", node3)\n",
    "\n",
    "builder.add_edge(START, \"Node1\")\n",
    "builder.add_edge(\"Node1\", \"Node2\")\n",
    "builder.add_edge(\"Node1\", \"Node3\")\n",
    "builder.add_edge(\"Node2\", END)\n",
    "\n",
    "simple_grap = builder.compile()\n",
    "\n",
    "display(Image(simple_grap.get_graph().draw_mermaid_png()))"
   ]
  },
  {
   "cell_type": "code",
   "execution_count": 23,
   "id": "bc6aeb8d",
   "metadata": {},
   "outputs": [
    {
     "name": "stdout",
     "output_type": "stream",
     "text": [
      "Error occurred: At key 'Key': Can receive only one value per step. Use an Annotated key to handle multiple values.\n",
      "For troubleshooting, visit: https://python.langchain.com/docs/troubleshooting/errors/INVALID_CONCURRENT_GRAPH_UPDATE\n"
     ]
    }
   ],
   "source": [
    "from langgraph.errors import InvalidUpdateError\n",
    "try:\n",
    "    simple_grap.invoke(PydanticState(Key=1))\n",
    "except InvalidUpdateError as e:\n",
    "    print(f\"Error occurred: {e}\")"
   ]
  },
  {
   "cell_type": "code",
   "execution_count": 48,
   "id": "13b9cd25",
   "metadata": {},
   "outputs": [],
   "source": [
    "from langchain_core.pydantic_v1 import BaseModel\n",
    "from typing import Annotated\n",
    "from operator import add\n",
    "from pydantic import annotated_handlers\n",
    "from typing import TypedDict\n",
    "\n",
    "class TypedState(TypedDict):\n",
    "    Key : Annotated[list[int],add] \n",
    "\n",
    "def node(state: TypedState):\n",
    "    return {\"Key\": [state[\"Key\"][0] + 1]}\n"
   ]
  },
  {
   "cell_type": "code",
   "execution_count": 49,
   "id": "378b080b",
   "metadata": {},
   "outputs": [
    {
     "data": {
      "image/png": "[encoded data removed]",
      "text/plain": [
       "<IPython.core.display.Image object>"
      ]
     },
     "metadata": {},
     "output_type": "display_data"
    }
   ],
   "source": [
    "builder = StateGraph(TypedState)\n",
    "\n",
    "builder.add_node(\"Node\", node)\n",
    "\n",
    "builder.add_edge(START, \"Node\")\n",
    "builder.add_edge(\"Node\", END)\n",
    "\n",
    "simple_grap = builder.compile()\n",
    "\n",
    "display(Image(simple_grap.get_graph().draw_mermaid_png()))"
   ]
  },
  {
   "cell_type": "code",
   "execution_count": 50,
   "id": "01292f1b",
   "metadata": {},
   "outputs": [
    {
     "name": "stdout",
     "output_type": "stream",
     "text": [
      "{'Key': [1, 2]}\n"
     ]
    }
   ],
   "source": [
    "result = simple_grap.invoke({\"Key\": [1]})\n",
    "print(result)"
   ]
  },
  {
   "cell_type": "code",
   "execution_count": 60,
   "id": "fe4fd131",
   "metadata": {},
   "outputs": [
    {
     "data": {
      "image/png": "[encoded data removed]",
      "text/plain": [
       "<IPython.core.display.Image object>"
      ]
     },
     "metadata": {},
     "output_type": "display_data"
    }
   ],
   "source": [
    "from typing import Annotated\n",
    "from pydantic import BaseModel\n",
    "\n",
    "int_list = Annotated[list[int], add]\n",
    "\n",
    "class PydanticState(BaseModel):\n",
    "    Key : int_list\n",
    "\n",
    "def node1(state: PydanticState):\n",
    "    return PydanticState(Key=[state.Key[0] + 1])\n",
    "\n",
    "def node2(state: PydanticState):\n",
    "    return PydanticState(Key=[state.Key[0] + 2])\n",
    "\n",
    "def node3(state: PydanticState):\n",
    "    return PydanticState(Key=[state.Key[0] + 3])\n",
    "\n",
    "builder = StateGraph(PydanticState)\n",
    "\n",
    "builder.add_node(\"Node1\", node1)\n",
    "builder.add_node(\"Node2\", node2)\n",
    "builder.add_node(\"Node3\", node3)\n",
    "\n",
    "builder.add_edge(START, \"Node1\")\n",
    "builder.add_edge(\"Node1\", \"Node2\")\n",
    "builder.add_edge(\"Node1\", \"Node3\")\n",
    "builder.add_edge(\"Node3\", END)\n",
    "\n",
    "simple_grap = builder.compile()\n",
    "\n",
    "display(Image(simple_grap.get_graph().draw_mermaid_png()))"
   ]
  },
  {
   "cell_type": "code",
   "execution_count": 61,
   "id": "7a9f1e67",
   "metadata": {},
   "outputs": [
    {
     "name": "stdout",
     "output_type": "stream",
     "text": [
      "{'Key': [0, 1, 2, 3]}\n"
     ]
    }
   ],
   "source": [
    "result = simple_grap.invoke(PydanticState(Key=[0]))\n",
    "print(result)"
   ]
  },
  {
   "cell_type": "code",
   "execution_count": 63,
   "id": "b8b66c2e",
   "metadata": {},
   "outputs": [
    {
     "data": {
      "image/png": "[encoded data removed]",
      "text/plain": [
       "<IPython.core.display.Image object>"
      ]
     },
     "metadata": {},
     "output_type": "display_data"
    }
   ],
   "source": [
    "def custom_reducer(left : list | None , right : list | None) -> list:\n",
    "    ''' custom reducer class '''\n",
    "    if not left:\n",
    "        left = []\n",
    "    if not right:\n",
    "        right = []\n",
    "    return left + right\n",
    "\n",
    "int_list = Annotated[list[int], custom_reducer]\n",
    "\n",
    "class PydanticState(BaseModel):\n",
    "    Key : int_list\n",
    "\n",
    "def node1(state: PydanticState):\n",
    "    return PydanticState(Key=[state.Key[0] + 1])\n",
    "\n",
    "def node2(state: PydanticState):\n",
    "    return PydanticState(Key=[state.Key[0] + 2])\n",
    "\n",
    "def node3(state: PydanticState):\n",
    "    return PydanticState(Key=[state.Key[0] + 3])\n",
    "\n",
    "builder = StateGraph(PydanticState)\n",
    "\n",
    "builder.add_node(\"Node1\", node1)\n",
    "builder.add_node(\"Node2\", node2)\n",
    "builder.add_node(\"Node3\", node3)\n",
    "\n",
    "builder.add_edge(START, \"Node1\")\n",
    "builder.add_edge(\"Node1\", \"Node2\")\n",
    "builder.add_edge(\"Node1\", \"Node3\")\n",
    "builder.add_edge(\"Node3\", END)\n",
    "\n",
    "simple_grap = builder.compile()\n",
    "\n",
    "display(Image(simple_grap.get_graph().draw_mermaid_png()))\n",
    "\n"
   ]
  },
  {
   "cell_type": "code",
   "execution_count": null,
   "id": "8bda1614",
   "metadata": {},
   "outputs": [
    {
     "ename": "ValidationError",
     "evalue": "1 validation error for PydanticState\nKey.0\n  Input should be a valid integer [type=int_type, input_value=None, input_type=NoneType]\n    For further information visit https://errors.pydantic.dev/2.11/v/int_type",
     "output_type": "error",
     "traceback": [
      "\u001b[31m---------------------------------------------------------------------------\u001b[39m",
      "\u001b[31mValidationError\u001b[39m                           Traceback (most recent call last)",
      "\u001b[36mCell\u001b[39m\u001b[36m \u001b[39m\u001b[32mIn[71]\u001b[39m\u001b[32m, line 1\u001b[39m\n\u001b[32m----> \u001b[39m\u001b[32m1\u001b[39m result = simple_grap.invoke(\u001b[43mPydanticState\u001b[49m\u001b[43m(\u001b[49m\u001b[43mKey\u001b[49m\u001b[43m=\u001b[49m\u001b[43m \u001b[49m\u001b[43m[\u001b[49m\u001b[38;5;28;43;01mNone\u001b[39;49;00m\u001b[43m]\u001b[49m\u001b[43m)\u001b[49m)\n\u001b[32m      2\u001b[39m \u001b[38;5;28mprint\u001b[39m(result)\n",
      "\u001b[36mFile \u001b[39m\u001b[32me:\\python syntax\\LangGraph\\MyLearningLangGraph\\LangGraphLearning\\venv\\Lib\\site-packages\\pydantic\\main.py:253\u001b[39m, in \u001b[36mBaseModel.__init__\u001b[39m\u001b[34m(self, **data)\u001b[39m\n\u001b[32m    251\u001b[39m \u001b[38;5;66;03m# `__tracebackhide__` tells pytest and some other tools to omit this function from tracebacks\u001b[39;00m\n\u001b[32m    252\u001b[39m __tracebackhide__ = \u001b[38;5;28;01mTrue\u001b[39;00m\n\u001b[32m--> \u001b[39m\u001b[32m253\u001b[39m validated_self = \u001b[38;5;28;43mself\u001b[39;49m\u001b[43m.\u001b[49m\u001b[43m__pydantic_validator__\u001b[49m\u001b[43m.\u001b[49m\u001b[43mvalidate_python\u001b[49m\u001b[43m(\u001b[49m\u001b[43mdata\u001b[49m\u001b[43m,\u001b[49m\u001b[43m \u001b[49m\u001b[43mself_instance\u001b[49m\u001b[43m=\u001b[49m\u001b[38;5;28;43mself\u001b[39;49m\u001b[43m)\u001b[49m\n\u001b[32m    254\u001b[39m \u001b[38;5;28;01mif\u001b[39;00m \u001b[38;5;28mself\u001b[39m \u001b[38;5;129;01mis\u001b[39;00m \u001b[38;5;129;01mnot\u001b[39;00m validated_self:\n\u001b[32m    255\u001b[39m     warnings.warn(\n\u001b[32m    256\u001b[39m         \u001b[33m'\u001b[39m\u001b[33mA custom validator is returning a value other than `self`.\u001b[39m\u001b[38;5;130;01m\\n\u001b[39;00m\u001b[33m'\u001b[39m\n\u001b[32m    257\u001b[39m         \u001b[33m\"\u001b[39m\u001b[33mReturning anything other than `self` from a top level model validator isn\u001b[39m\u001b[33m'\u001b[39m\u001b[33mt supported when validating via `__init__`.\u001b[39m\u001b[38;5;130;01m\\n\u001b[39;00m\u001b[33m\"\u001b[39m\n\u001b[32m    258\u001b[39m         \u001b[33m'\u001b[39m\u001b[33mSee the `model_validator` docs (https://docs.pydantic.dev/latest/concepts/validators/#model-validators) for more details.\u001b[39m\u001b[33m'\u001b[39m,\n\u001b[32m    259\u001b[39m         stacklevel=\u001b[32m2\u001b[39m,\n\u001b[32m    260\u001b[39m     )\n",
      "\u001b[31mValidationError\u001b[39m: 1 validation error for PydanticState\nKey.0\n  Input should be a valid integer [type=int_type, input_value=None, input_type=NoneType]\n    For further information visit https://errors.pydantic.dev/2.11/v/int_type"
     ]
    }
   ],
   "source": [
    "result = simple_grap.invoke(PydanticState(Key= []))\n",
    "print(result)"
   ]
  },
  {
   "cell_type": "code",
   "execution_count": 72,
   "id": "f208b126",
   "metadata": {},
   "outputs": [],
   "source": [
    "# messages \n",
    "# add_message custom reducer\n",
    "from langgraph.graph import MessagesState\n",
    "from langchain_core.messages import AnyMessage\n",
    "from langgraph.graph.message import add_messages\n",
    "\n",
    "\n",
    "message = Annotated[list[AnyMessage], add_messages]\n",
    "\n",
    "class PydanticMessage(BaseModel):\n",
    "    messages : message\n",
    "    key_1 : str\n",
    "    key_2 : str\n",
    "\n",
    "class ExtendMessage(MessagesState):\n",
    "    key_1 : str\n",
    "    key_2 : str\n",
    "\n",
    "\n"
   ]
  },
  {
   "cell_type": "code",
   "execution_count": 77,
   "id": "86e34851",
   "metadata": {},
   "outputs": [
    {
     "name": "stdout",
     "output_type": "stream",
     "text": [
      "Hello, how are you?\n",
      "I am fine, thank you!\n",
      "i want some details about orcas?\n"
     ]
    }
   ],
   "source": [
    "from langchain_core.messages import AIMessage, HumanMessage, SystemMessage\n",
    "initial_message = [HumanMessage(content=\"Hello, how are you?\" , name=\"Akshay\"),\n",
    "                   AIMessage(content=\"I am fine, thank you!\", name=\"system\"),\n",
    "                   ]\n",
    "\n",
    "new_message = HumanMessage(content=\"i want some details about orcas?\", name=\"Akshay\")\n",
    "\n",
    "final_message = add_messages(initial_message, new_message) \n",
    "for message in final_message:\n",
    "    print(message.content)"
   ]
  },
  {
   "cell_type": "code",
   "execution_count": 80,
   "id": "e04de8cf",
   "metadata": {},
   "outputs": [
    {
     "name": "stdout",
     "output_type": "stream",
     "text": [
      "[HumanMessage(content='Hello, how are you?', additional_kwargs={}, response_metadata={}, name='Akshay', id='1'), AIMessage(content='I am fine, thank you!', additional_kwargs={}, response_metadata={}, name='system', id='2'), HumanMessage(content='i want some details about orcas?', additional_kwargs={}, response_metadata={}, name='Akshay', id='3')]\n",
      "Hello, how are you?\n",
      "I am fine, thank you!\n",
      "i want some details about orcas?\n"
     ]
    }
   ],
   "source": [
    "from langchain_core.messages import AIMessage, HumanMessage, SystemMessage\n",
    "initial_message = [HumanMessage(content=\"Hello, how are you?\" , name=\"Akshay\" , id=\"1\"),\n",
    "                   AIMessage(content=\"I am fine, thank you!\", name=\"system\", id=\"2\"),\n",
    "                   HumanMessage(content=\"What can I do for you?\", name=\"system\", id=\"3\"),\n",
    "                   ]\n",
    "\n",
    "new_message = HumanMessage(content=\"i want some details about orcas?\", name=\"Akshay\", id=\"3\")\n",
    "\n",
    "final_message = add_messages(initial_message, new_message) \n",
    "print(final_message)\n",
    "for message in final_message:\n",
    "    print(message.content)"
   ]
  },
  {
   "cell_type": "code",
   "execution_count": 90,
   "id": "e59faf9a",
   "metadata": {},
   "outputs": [
    {
     "name": "stdout",
     "output_type": "stream",
     "text": [
      "content='' additional_kwargs={} response_metadata={} id='1'\n",
      "content='' additional_kwargs={} response_metadata={} id='2'\n",
      "content='' additional_kwargs={} response_metadata={} id='3'\n"
     ]
    }
   ],
   "source": [
    "# Remove message \n",
    "\n",
    "from langchain_core.messages import RemoveMessage\n",
    "\n",
    "initial_message = [HumanMessage(content=\"Hello, how are you?\" , name=\"Akshay\" , id=\"1\"),\n",
    "                   AIMessage(content=\"I am fine, thank you!\", name=\"system\", id=\"2\"),\n",
    "                   HumanMessage(content=\"What can I do for you?\", name=\"system\", id=\"3\"),\n",
    "                   ]\n",
    "initial_message.append(HumanMessage(content=\"i want some details about orcas?\", name=\"Akshay\", id=\"4\"))\n",
    "initial_message.append(HumanMessage(content=\"Tell me about orcas?\", name=\"Akshay\", id=\"5\"))\n",
    "deleted_message = [RemoveMessage(id=m.id) for m in initial_message[:-2]]\n",
    "for i in deleted_message:\n",
    "    print(i)"
   ]
  },
  {
   "cell_type": "code",
   "execution_count": 89,
   "id": "dd796df8",
   "metadata": {},
   "outputs": [
    {
     "name": "stdout",
     "output_type": "stream",
     "text": [
      "i want some details about orcas?\n",
      "Tell me about orcas?\n"
     ]
    }
   ],
   "source": [
    "final_message = add_messages(initial_message, deleted_message)\n",
    "for i in final_message:\n",
    "    print(i.content)"
   ]
  },
  {
   "cell_type": "code",
   "execution_count": null,
   "id": "2aa0cfb8",
   "metadata": {},
   "outputs": [],
   "source": []
  }
 ],
 "metadata": {
  "kernelspec": {
   "display_name": "venv (3.12.0)",
   "language": "python",
   "name": "python3"
  },
  "language_info": {
   "codemirror_mode": {
    "name": "ipython",
    "version": 3
   },
   "file_extension": ".py",
   "mimetype": "text/x-python",
   "name": "python",
   "nbconvert_exporter": "python",
   "pygments_lexer": "ipython3",
   "version": "3.12.0"
  }
 },
 "nbformat": 4,
 "nbformat_minor": 5
}
